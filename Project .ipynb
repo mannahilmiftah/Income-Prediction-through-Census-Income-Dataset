{
 "cells": [
  {
   "cell_type": "markdown",
   "id": "27b611d6",
   "metadata": {},
   "source": [
    "# Importing required libraries"
   ]
  },
  {
   "cell_type": "code",
   "execution_count": 1,
   "id": "e1987c4c",
   "metadata": {},
   "outputs": [],
   "source": [
    "import numpy as np\n",
    "import pandas as pd\n",
    "import seaborn as sb\n",
    "import matplotlib.pyplot as plt\n",
    "from sklearn.preprocessing import LabelEncoder, StandardScaler\n",
    "from sklearn.metrics import confusion_matrix, accuracy_score\n",
    "from sklearn.linear_model import LogisticRegression\n",
    "from sklearn.linear_model import LinearRegression\n",
    "from sklearn.model_selection import train_test_split\n",
    "from sklearn.ensemble import RandomForestClassifier\n",
    "from sklearn.tree import DecisionTreeClassifier\n",
    "from sklearn.cluster import KMeans"
   ]
  },
  {
   "cell_type": "code",
   "execution_count": 2,
   "id": "44901ce2",
   "metadata": {},
   "outputs": [
    {
     "data": {
      "text/html": [
       "<div>\n",
       "<style scoped>\n",
       "    .dataframe tbody tr th:only-of-type {\n",
       "        vertical-align: middle;\n",
       "    }\n",
       "\n",
       "    .dataframe tbody tr th {\n",
       "        vertical-align: top;\n",
       "    }\n",
       "\n",
       "    .dataframe thead th {\n",
       "        text-align: right;\n",
       "    }\n",
       "</style>\n",
       "<table border=\"1\" class=\"dataframe\">\n",
       "  <thead>\n",
       "    <tr style=\"text-align: right;\">\n",
       "      <th></th>\n",
       "      <th>age</th>\n",
       "      <th>workclass</th>\n",
       "      <th>fnlwgt</th>\n",
       "      <th>education</th>\n",
       "      <th>education.num</th>\n",
       "      <th>marital.status</th>\n",
       "      <th>occupation</th>\n",
       "      <th>relationship</th>\n",
       "      <th>race</th>\n",
       "      <th>sex</th>\n",
       "      <th>capital.gain</th>\n",
       "      <th>capital.loss</th>\n",
       "      <th>hours.per.week</th>\n",
       "      <th>native.country</th>\n",
       "      <th>income</th>\n",
       "    </tr>\n",
       "  </thead>\n",
       "  <tbody>\n",
       "    <tr>\n",
       "      <th>0</th>\n",
       "      <td>90</td>\n",
       "      <td>?</td>\n",
       "      <td>77053</td>\n",
       "      <td>HS-grad</td>\n",
       "      <td>9</td>\n",
       "      <td>Widowed</td>\n",
       "      <td>?</td>\n",
       "      <td>Not-in-family</td>\n",
       "      <td>White</td>\n",
       "      <td>Female</td>\n",
       "      <td>0</td>\n",
       "      <td>4356</td>\n",
       "      <td>40</td>\n",
       "      <td>United-States</td>\n",
       "      <td>&lt;=50K</td>\n",
       "    </tr>\n",
       "    <tr>\n",
       "      <th>1</th>\n",
       "      <td>82</td>\n",
       "      <td>Private</td>\n",
       "      <td>132870</td>\n",
       "      <td>HS-grad</td>\n",
       "      <td>9</td>\n",
       "      <td>Widowed</td>\n",
       "      <td>Exec-managerial</td>\n",
       "      <td>Not-in-family</td>\n",
       "      <td>White</td>\n",
       "      <td>Female</td>\n",
       "      <td>0</td>\n",
       "      <td>4356</td>\n",
       "      <td>18</td>\n",
       "      <td>United-States</td>\n",
       "      <td>&lt;=50K</td>\n",
       "    </tr>\n",
       "    <tr>\n",
       "      <th>2</th>\n",
       "      <td>66</td>\n",
       "      <td>?</td>\n",
       "      <td>186061</td>\n",
       "      <td>Some-college</td>\n",
       "      <td>10</td>\n",
       "      <td>Widowed</td>\n",
       "      <td>?</td>\n",
       "      <td>Unmarried</td>\n",
       "      <td>Black</td>\n",
       "      <td>Female</td>\n",
       "      <td>0</td>\n",
       "      <td>4356</td>\n",
       "      <td>40</td>\n",
       "      <td>United-States</td>\n",
       "      <td>&lt;=50K</td>\n",
       "    </tr>\n",
       "    <tr>\n",
       "      <th>3</th>\n",
       "      <td>54</td>\n",
       "      <td>Private</td>\n",
       "      <td>140359</td>\n",
       "      <td>7th-8th</td>\n",
       "      <td>4</td>\n",
       "      <td>Divorced</td>\n",
       "      <td>Machine-op-inspct</td>\n",
       "      <td>Unmarried</td>\n",
       "      <td>White</td>\n",
       "      <td>Female</td>\n",
       "      <td>0</td>\n",
       "      <td>3900</td>\n",
       "      <td>40</td>\n",
       "      <td>United-States</td>\n",
       "      <td>&lt;=50K</td>\n",
       "    </tr>\n",
       "    <tr>\n",
       "      <th>4</th>\n",
       "      <td>41</td>\n",
       "      <td>Private</td>\n",
       "      <td>264663</td>\n",
       "      <td>Some-college</td>\n",
       "      <td>10</td>\n",
       "      <td>Separated</td>\n",
       "      <td>Prof-specialty</td>\n",
       "      <td>Own-child</td>\n",
       "      <td>White</td>\n",
       "      <td>Female</td>\n",
       "      <td>0</td>\n",
       "      <td>3900</td>\n",
       "      <td>40</td>\n",
       "      <td>United-States</td>\n",
       "      <td>&lt;=50K</td>\n",
       "    </tr>\n",
       "    <tr>\n",
       "      <th>...</th>\n",
       "      <td>...</td>\n",
       "      <td>...</td>\n",
       "      <td>...</td>\n",
       "      <td>...</td>\n",
       "      <td>...</td>\n",
       "      <td>...</td>\n",
       "      <td>...</td>\n",
       "      <td>...</td>\n",
       "      <td>...</td>\n",
       "      <td>...</td>\n",
       "      <td>...</td>\n",
       "      <td>...</td>\n",
       "      <td>...</td>\n",
       "      <td>...</td>\n",
       "      <td>...</td>\n",
       "    </tr>\n",
       "    <tr>\n",
       "      <th>95</th>\n",
       "      <td>46</td>\n",
       "      <td>Private</td>\n",
       "      <td>192963</td>\n",
       "      <td>Bachelors</td>\n",
       "      <td>13</td>\n",
       "      <td>Married-civ-spouse</td>\n",
       "      <td>Adm-clerical</td>\n",
       "      <td>Husband</td>\n",
       "      <td>Asian-Pac-Islander</td>\n",
       "      <td>Male</td>\n",
       "      <td>0</td>\n",
       "      <td>2415</td>\n",
       "      <td>35</td>\n",
       "      <td>Philippines</td>\n",
       "      <td>&gt;50K</td>\n",
       "    </tr>\n",
       "    <tr>\n",
       "      <th>96</th>\n",
       "      <td>46</td>\n",
       "      <td>Self-emp-not-inc</td>\n",
       "      <td>198759</td>\n",
       "      <td>Prof-school</td>\n",
       "      <td>15</td>\n",
       "      <td>Married-civ-spouse</td>\n",
       "      <td>Prof-specialty</td>\n",
       "      <td>Husband</td>\n",
       "      <td>White</td>\n",
       "      <td>Male</td>\n",
       "      <td>0</td>\n",
       "      <td>2415</td>\n",
       "      <td>80</td>\n",
       "      <td>United-States</td>\n",
       "      <td>&gt;50K</td>\n",
       "    </tr>\n",
       "    <tr>\n",
       "      <th>97</th>\n",
       "      <td>39</td>\n",
       "      <td>Self-emp-inc</td>\n",
       "      <td>143123</td>\n",
       "      <td>Assoc-voc</td>\n",
       "      <td>11</td>\n",
       "      <td>Married-civ-spouse</td>\n",
       "      <td>Craft-repair</td>\n",
       "      <td>Husband</td>\n",
       "      <td>White</td>\n",
       "      <td>Male</td>\n",
       "      <td>0</td>\n",
       "      <td>2415</td>\n",
       "      <td>40</td>\n",
       "      <td>United-States</td>\n",
       "      <td>&gt;50K</td>\n",
       "    </tr>\n",
       "    <tr>\n",
       "      <th>98</th>\n",
       "      <td>39</td>\n",
       "      <td>Private</td>\n",
       "      <td>237713</td>\n",
       "      <td>Prof-school</td>\n",
       "      <td>15</td>\n",
       "      <td>Married-civ-spouse</td>\n",
       "      <td>Sales</td>\n",
       "      <td>Husband</td>\n",
       "      <td>White</td>\n",
       "      <td>Male</td>\n",
       "      <td>0</td>\n",
       "      <td>2415</td>\n",
       "      <td>99</td>\n",
       "      <td>United-States</td>\n",
       "      <td>&gt;50K</td>\n",
       "    </tr>\n",
       "    <tr>\n",
       "      <th>99</th>\n",
       "      <td>59</td>\n",
       "      <td>Private</td>\n",
       "      <td>81929</td>\n",
       "      <td>Doctorate</td>\n",
       "      <td>16</td>\n",
       "      <td>Married-civ-spouse</td>\n",
       "      <td>Prof-specialty</td>\n",
       "      <td>Husband</td>\n",
       "      <td>White</td>\n",
       "      <td>Male</td>\n",
       "      <td>0</td>\n",
       "      <td>2415</td>\n",
       "      <td>45</td>\n",
       "      <td>United-States</td>\n",
       "      <td>&gt;50K</td>\n",
       "    </tr>\n",
       "  </tbody>\n",
       "</table>\n",
       "<p>100 rows × 15 columns</p>\n",
       "</div>"
      ],
      "text/plain": [
       "    age         workclass  fnlwgt     education  education.num  \\\n",
       "0    90                 ?   77053       HS-grad              9   \n",
       "1    82           Private  132870       HS-grad              9   \n",
       "2    66                 ?  186061  Some-college             10   \n",
       "3    54           Private  140359       7th-8th              4   \n",
       "4    41           Private  264663  Some-college             10   \n",
       "..  ...               ...     ...           ...            ...   \n",
       "95   46           Private  192963     Bachelors             13   \n",
       "96   46  Self-emp-not-inc  198759   Prof-school             15   \n",
       "97   39      Self-emp-inc  143123     Assoc-voc             11   \n",
       "98   39           Private  237713   Prof-school             15   \n",
       "99   59           Private   81929     Doctorate             16   \n",
       "\n",
       "        marital.status         occupation   relationship                race  \\\n",
       "0              Widowed                  ?  Not-in-family               White   \n",
       "1              Widowed    Exec-managerial  Not-in-family               White   \n",
       "2              Widowed                  ?      Unmarried               Black   \n",
       "3             Divorced  Machine-op-inspct      Unmarried               White   \n",
       "4            Separated     Prof-specialty      Own-child               White   \n",
       "..                 ...                ...            ...                 ...   \n",
       "95  Married-civ-spouse       Adm-clerical        Husband  Asian-Pac-Islander   \n",
       "96  Married-civ-spouse     Prof-specialty        Husband               White   \n",
       "97  Married-civ-spouse       Craft-repair        Husband               White   \n",
       "98  Married-civ-spouse              Sales        Husband               White   \n",
       "99  Married-civ-spouse     Prof-specialty        Husband               White   \n",
       "\n",
       "       sex  capital.gain  capital.loss  hours.per.week native.country income  \n",
       "0   Female             0          4356              40  United-States  <=50K  \n",
       "1   Female             0          4356              18  United-States  <=50K  \n",
       "2   Female             0          4356              40  United-States  <=50K  \n",
       "3   Female             0          3900              40  United-States  <=50K  \n",
       "4   Female             0          3900              40  United-States  <=50K  \n",
       "..     ...           ...           ...             ...            ...    ...  \n",
       "95    Male             0          2415              35    Philippines   >50K  \n",
       "96    Male             0          2415              80  United-States   >50K  \n",
       "97    Male             0          2415              40  United-States   >50K  \n",
       "98    Male             0          2415              99  United-States   >50K  \n",
       "99    Male             0          2415              45  United-States   >50K  \n",
       "\n",
       "[100 rows x 15 columns]"
      ]
     },
     "execution_count": 2,
     "metadata": {},
     "output_type": "execute_result"
    }
   ],
   "source": [
    "data = pd.read_csv(r'C:\\Users\\Mannahil Miftah\\Desktop\\adult.csv')\n",
    "data.head(100)"
   ]
  },
  {
   "cell_type": "markdown",
   "id": "13306a39",
   "metadata": {},
   "source": [
    "# Analyzing Data"
   ]
  },
  {
   "cell_type": "code",
   "execution_count": 3,
   "id": "52cba01c",
   "metadata": {},
   "outputs": [
    {
     "name": "stdout",
     "output_type": "stream",
     "text": [
      "workclass \t 1836\n",
      "occupation \t 1843\n",
      "native.country \t 583\n"
     ]
    }
   ],
   "source": [
    "#printing values of all attributes to identify if any attribute has ? \n",
    "allColumns = data.columns\n",
    "for c in allColumns:\n",
    "    missed = data[c].isin(['?']).sum()\n",
    "    if missed > 0:\n",
    "        print(c, \"\\t\", missed)"
   ]
  },
  {
   "cell_type": "code",
   "execution_count": 4,
   "id": "a34c5c1a",
   "metadata": {},
   "outputs": [
    {
     "data": {
      "text/plain": [
       "Private             22696\n",
       "Self-emp-not-inc     2541\n",
       "Local-gov            2093\n",
       "?                    1836\n",
       "State-gov            1298\n",
       "Self-emp-inc         1116\n",
       "Federal-gov           960\n",
       "Without-pay            14\n",
       "Never-worked            7\n",
       "Name: workclass, dtype: int64"
      ]
     },
     "execution_count": 4,
     "metadata": {},
     "output_type": "execute_result"
    }
   ],
   "source": [
    "data['workclass'].value_counts()"
   ]
  },
  {
   "cell_type": "code",
   "execution_count": 5,
   "id": "0bb0e457",
   "metadata": {},
   "outputs": [
    {
     "data": {
      "text/plain": [
       "Prof-specialty       4140\n",
       "Craft-repair         4099\n",
       "Exec-managerial      4066\n",
       "Adm-clerical         3770\n",
       "Sales                3650\n",
       "Other-service        3295\n",
       "Machine-op-inspct    2002\n",
       "?                    1843\n",
       "Transport-moving     1597\n",
       "Handlers-cleaners    1370\n",
       "Farming-fishing       994\n",
       "Tech-support          928\n",
       "Protective-serv       649\n",
       "Priv-house-serv       149\n",
       "Armed-Forces            9\n",
       "Name: occupation, dtype: int64"
      ]
     },
     "execution_count": 5,
     "metadata": {},
     "output_type": "execute_result"
    }
   ],
   "source": [
    "data['occupation'].value_counts()"
   ]
  },
  {
   "cell_type": "code",
   "execution_count": 6,
   "id": "2f646bf8",
   "metadata": {},
   "outputs": [
    {
     "data": {
      "text/plain": [
       "United-States                 29170\n",
       "Mexico                          643\n",
       "?                               583\n",
       "Philippines                     198\n",
       "Germany                         137\n",
       "Canada                          121\n",
       "Puerto-Rico                     114\n",
       "El-Salvador                     106\n",
       "India                           100\n",
       "Cuba                             95\n",
       "England                          90\n",
       "Jamaica                          81\n",
       "South                            80\n",
       "China                            75\n",
       "Italy                            73\n",
       "Dominican-Republic               70\n",
       "Vietnam                          67\n",
       "Guatemala                        64\n",
       "Japan                            62\n",
       "Poland                           60\n",
       "Columbia                         59\n",
       "Taiwan                           51\n",
       "Haiti                            44\n",
       "Iran                             43\n",
       "Portugal                         37\n",
       "Nicaragua                        34\n",
       "Peru                             31\n",
       "Greece                           29\n",
       "France                           29\n",
       "Ecuador                          28\n",
       "Ireland                          24\n",
       "Hong                             20\n",
       "Cambodia                         19\n",
       "Trinadad&Tobago                  19\n",
       "Laos                             18\n",
       "Thailand                         18\n",
       "Yugoslavia                       16\n",
       "Outlying-US(Guam-USVI-etc)       14\n",
       "Hungary                          13\n",
       "Honduras                         13\n",
       "Scotland                         12\n",
       "Holand-Netherlands                1\n",
       "Name: native.country, dtype: int64"
      ]
     },
     "execution_count": 6,
     "metadata": {},
     "output_type": "execute_result"
    }
   ],
   "source": [
    "data['native.country'].value_counts()"
   ]
  },
  {
   "cell_type": "markdown",
   "id": "c3d334e2",
   "metadata": {},
   "source": [
    "# Plots"
   ]
  },
  {
   "cell_type": "code",
   "execution_count": 7,
   "id": "6ef93d68",
   "metadata": {},
   "outputs": [
    {
     "data": {
      "image/png": "[encoded data removed]",
      "text/plain": [
       "<Figure size 576x432 with 1 Axes>"
      ]
     },
     "metadata": {
      "needs_background": "light"
     },
     "output_type": "display_data"
    }
   ],
   "source": [
    "# Clustered Bar Chart \n",
    "plt.figure(figsize=[8,6])\n",
    "sb.barplot(data = data ,x = 'income',y = 'age',hue = 'sex',palette = 'Greys')\n",
    "plt.title('Average of Age for Sex relative to Income', fontdict={'fontname': 'Monospace', 'fontsize': 20, 'fontweight': 'bold'})\n",
    "plt.xlabel('Income ($)', fontdict={'fontname':'Monospace', 'fontsize': 15,})\n",
    "plt.ylabel('Average of Age', fontdict={'fontname':'Monospace', 'fontsize': 15,})\n",
    "plt.show()"
   ]
  },
  {
   "cell_type": "code",
   "execution_count": 51,
   "id": "1c10d9db",
   "metadata": {},
   "outputs": [
    {
     "data": {
      "image/png": "[encoded data removed]",
      "text/plain": [
       "<Figure size 432x288 with 1 Axes>"
      ]
     },
     "metadata": {
      "needs_background": "light"
     },
     "output_type": "display_data"
    }
   ],
   "source": [
    "sb.histplot(data=data,x='sex')\n",
    "plt.show()"
   ]
  },
  {
   "cell_type": "code",
   "execution_count": 9,
   "id": "80342a63",
   "metadata": {},
   "outputs": [
    {
     "data": {
      "image/png": "[encoded data removed]",
      "text/plain": [
       "<Figure size 576x432 with 1 Axes>"
      ]
     },
     "metadata": {
      "needs_background": "light"
     },
     "output_type": "display_data"
    }
   ],
   "source": [
    "# Clustered Bar Chart \n",
    "plt.figure(figsize=[8,6])\n",
    "sb.barplot(data = data ,x = 'income',y = 'education.num',hue = 'sex',palette = 'spring')\n",
    "plt.title('Distribution of Education relative to Income',\n",
    "          fontdict={'fontname': 'Monospace', 'fontsize': 20, 'fontweight': 'bold'})\n",
    "plt.xlabel('Income ($)', fontdict={'fontname':'Monospace', 'fontsize': 15,})\n",
    "plt.ylabel('Education', fontdict={'fontname':'Monospace', 'fontsize': 15,})\n",
    "plt.show()"
   ]
  },
  {
   "cell_type": "code",
   "execution_count": 10,
   "id": "8596d6bf",
   "metadata": {},
   "outputs": [
    {
     "data": {
      "image/png": "[encoded data removed]",
      "text/plain": [
       "<Figure size 576x432 with 1 Axes>"
      ]
     },
     "metadata": {
      "needs_background": "light"
     },
     "output_type": "display_data"
    }
   ],
   "source": [
    "#Bar Chart\n",
    "plt.figure(figsize=[8,6])\n",
    "sb.barplot(data=data,x='income',y='hours.per.week',palette='hot')\n",
    "plt.title('Average of Hours per Week relative to Income',\n",
    "          fontdict={'fontname': 'Monospace', 'fontsize': 20, 'fontweight': 'bold'})\n",
    "plt.xlabel('Income ($)', fontdict={'fontname':'Monospace', 'fontsize': 15,})\n",
    "plt.ylabel('Average of Hours per Week', fontdict={'fontname':'Monospace', 'fontsize': 15,})\n",
    "plt.show()"
   ]
  },
  {
   "cell_type": "code",
   "execution_count": 11,
   "id": "7271d30b",
   "metadata": {},
   "outputs": [
    {
     "data": {
      "image/png": "[encoded data removed]",
      "text/plain": [
       "<Figure size 1440x504 with 1 Axes>"
      ]
     },
     "metadata": {
      "needs_background": "light"
     },
     "output_type": "display_data"
    }
   ],
   "source": [
    "# Creating a countplot of income across education\n",
    "plt.figure(figsize=[20,7])\n",
    "sb.countplot(x=data['education'],hue=data['income'],palette='YlOrBr')\n",
    "plt.title('Distribution of Income across Education', fontdict={'fontname': 'Monospace', 'fontsize': 20, 'fontweight': 'bold'})\n",
    "plt.xlabel('Education', fontdict={'fontname':'Monospace', 'fontsize': 15,})\n",
    "plt.ylabel('Number of People', fontdict={'fontname':'Monospace', 'fontsize': 15,})\n",
    "plt.show()"
   ]
  },
  {
   "cell_type": "code",
   "execution_count": 12,
   "id": "3a51f64b",
   "metadata": {},
   "outputs": [
    {
     "data": {
      "image/png": "[encoded data removed]",
      "text/plain": [
       "<Figure size 1440x504 with 1 Axes>"
      ]
     },
     "metadata": {
      "needs_background": "light"
     },
     "output_type": "display_data"
    }
   ],
   "source": [
    "# Creating a countplot of income across age\n",
    "plt.figure(figsize=[20,7])\n",
    "sb.countplot(x=data['age'],hue=data['income'],palette='icefire')\n",
    "plt.title('Distribution of Income across Age', fontdict={'fontname': 'Monospace', 'fontsize': 20, 'fontweight': 'bold'})\n",
    "plt.xlabel('Age', fontdict={'fontname':'Monospace', 'fontsize': 15,})\n",
    "plt.ylabel('Number of People', fontdict={'fontname':'Monospace', 'fontsize': 15,})\n",
    "plt.show()"
   ]
  },
  {
   "cell_type": "code",
   "execution_count": 13,
   "id": "e8a27920",
   "metadata": {},
   "outputs": [
    {
     "data": {
      "image/png": "[encoded data removed]",
      "text/plain": [
       "<Figure size 1440x504 with 1 Axes>"
      ]
     },
     "metadata": {
      "needs_background": "light"
     },
     "output_type": "display_data"
    }
   ],
   "source": [
    "# Creating a countplot of income across race\n",
    "plt.figure(figsize=[20,7])\n",
    "sb.countplot(x=data['race'],hue=data['income'],palette='gist_rainbow')\n",
    "plt.title('Distribution of Income across Race', fontdict={'fontname': 'Monospace', 'fontsize': 20, 'fontweight': 'bold'})\n",
    "plt.xlabel('Race', fontdict={'fontname':'Monospace', 'fontsize': 15,})\n",
    "plt.ylabel('Number of People', fontdict={'fontname':'Monospace', 'fontsize': 15,})\n",
    "plt.show()"
   ]
  },
  {
   "cell_type": "code",
   "execution_count": 14,
   "id": "4f350f7d",
   "metadata": {},
   "outputs": [
    {
     "data": {
      "image/png": "[encoded data removed]",
      "text/plain": [
       "<Figure size 1440x504 with 1 Axes>"
      ]
     },
     "metadata": {
      "needs_background": "light"
     },
     "output_type": "display_data"
    }
   ],
   "source": [
    "# Creating a countplot of income across sex\n",
    "plt.figure(figsize=[20,7])\n",
    "sb.countplot(x=data['sex'],hue=data['income'],palette='copper')\n",
    "plt.title('Distribution of Income across Sex', fontdict={'fontname':'Monospace', 'fontsize': 20, 'fontweight': 'bold'})\n",
    "plt.xlabel('Sex', fontdict={'fontname':'Monospace', 'fontsize': 15,})\n",
    "plt.ylabel('Number of People', fontdict={'fontname':'Monospace', 'fontsize': 15,})\n",
    "plt.show()"
   ]
  },
  {
   "cell_type": "code",
   "execution_count": 15,
   "id": "d5cf6bc2",
   "metadata": {},
   "outputs": [
    {
     "data": {
      "image/png": "[encoded data removed]",
      "text/plain": [
       "<Figure size 576x432 with 1 Axes>"
      ]
     },
     "metadata": {
      "needs_background": "light"
     },
     "output_type": "display_data"
    }
   ],
   "source": [
    "# Creating a barplot for 'Education'\n",
    "edu = data['education'].value_counts()\n",
    "plt.figure(figsize=[8,6])\n",
    "sb.barplot(x=edu.values,y=edu.index,palette='magma')\n",
    "plt.title('Distribution of Education', fontdict={'fontname': 'Monospace', 'fontsize': 20, 'fontweight': 'bold'})\n",
    "plt.xlabel('Number of people', fontdict={'fontname':'Monospace', 'fontsize': 15,})\n",
    "plt.ylabel('Education', fontdict={'fontname':'Monospace', 'fontsize': 15,})\n",
    "plt.show()"
   ]
  },
  {
   "cell_type": "code",
   "execution_count": 16,
   "id": "08eecb5d",
   "metadata": {},
   "outputs": [
    {
     "data": {
      "image/png": "[encoded data removed]",
      "text/plain": [
       "<Figure size 720x504 with 1 Axes>"
      ]
     },
     "metadata": {},
     "output_type": "display_data"
    }
   ],
   "source": [
    "# Creating a pie chart for 'Relationship'\n",
    "relation=data['relationship'].value_counts()\n",
    "plt.figure(figsize=[10,7])\n",
    "plt.pie(relation.values, labels=relation.index, startangle=10, shadow=True, autopct='%1.1f%%')\n",
    "plt.title('Relationship Distribution', fontdict={'fontname': 'Monospace', 'fontsize': 20, 'fontweight': 'bold'})\n",
    "plt.legend()\n",
    "plt.axis('equal')\n",
    "plt.show()"
   ]
  },
  {
   "cell_type": "markdown",
   "id": "e08b4f9f",
   "metadata": {},
   "source": [
    "# Cleaning"
   ]
  },
  {
   "cell_type": "code",
   "execution_count": 17,
   "id": "51124f7f",
   "metadata": {},
   "outputs": [],
   "source": [
    "data.drop('education.num',inplace=True,axis=1)\n",
    "\n",
    "#The matching education level of the education number:\n",
    "#1: Preschool, 2: 1st-4th, 3: 5th-6th, 4: 7th-8th, 5: 9th, 6: 10th, 7: 11th, 8: 12th, 9: HS-grad,\n",
    "#10: Some-college, 11: Assoc-voc, 12: Assoc-acdm, 13: Bachelors, 14: Masters, 15: Prof-school, 16: Doctorate"
   ]
  },
  {
   "cell_type": "code",
   "execution_count": 18,
   "id": "3b4ce70d",
   "metadata": {},
   "outputs": [],
   "source": [
    "data.drop('capital.gain',inplace=True,axis=1)"
   ]
  },
  {
   "cell_type": "code",
   "execution_count": 19,
   "id": "73e70416",
   "metadata": {},
   "outputs": [],
   "source": [
    "data.drop('capital.loss',inplace=True,axis=1)"
   ]
  },
  {
   "cell_type": "code",
   "execution_count": 20,
   "id": "27f407d2",
   "metadata": {},
   "outputs": [],
   "source": [
    "data.drop('fnlwgt',inplace=True,axis=1)"
   ]
  },
  {
   "cell_type": "code",
   "execution_count": 21,
   "id": "5dbdd1e5",
   "metadata": {},
   "outputs": [],
   "source": [
    "data['workclass'].replace({'?' : 'Private'}, inplace = True)"
   ]
  },
  {
   "cell_type": "code",
   "execution_count": 22,
   "id": "fa9efa4b",
   "metadata": {},
   "outputs": [],
   "source": [
    "data['occupation'].replace({'?' : 'Prof-specialty'}, inplace = True)"
   ]
  },
  {
   "cell_type": "code",
   "execution_count": 23,
   "id": "4b3d07b9",
   "metadata": {},
   "outputs": [],
   "source": [
    "data['native.country'].replace({'?' : 'United States'}, inplace = True)"
   ]
  },
  {
   "cell_type": "code",
   "execution_count": 24,
   "id": "051213ff",
   "metadata": {},
   "outputs": [
    {
     "data": {
      "text/html": [
       "<div>\n",
       "<style scoped>\n",
       "    .dataframe tbody tr th:only-of-type {\n",
       "        vertical-align: middle;\n",
       "    }\n",
       "\n",
       "    .dataframe tbody tr th {\n",
       "        vertical-align: top;\n",
       "    }\n",
       "\n",
       "    .dataframe thead th {\n",
       "        text-align: right;\n",
       "    }\n",
       "</style>\n",
       "<table border=\"1\" class=\"dataframe\">\n",
       "  <thead>\n",
       "    <tr style=\"text-align: right;\">\n",
       "      <th></th>\n",
       "      <th>age</th>\n",
       "      <th>workclass</th>\n",
       "      <th>education</th>\n",
       "      <th>marital.status</th>\n",
       "      <th>occupation</th>\n",
       "      <th>relationship</th>\n",
       "      <th>race</th>\n",
       "      <th>sex</th>\n",
       "      <th>hours.per.week</th>\n",
       "      <th>native.country</th>\n",
       "      <th>income</th>\n",
       "    </tr>\n",
       "  </thead>\n",
       "  <tbody>\n",
       "    <tr>\n",
       "      <th>0</th>\n",
       "      <td>90</td>\n",
       "      <td>Private</td>\n",
       "      <td>HS-grad</td>\n",
       "      <td>Widowed</td>\n",
       "      <td>Prof-specialty</td>\n",
       "      <td>Not-in-family</td>\n",
       "      <td>White</td>\n",
       "      <td>Female</td>\n",
       "      <td>40</td>\n",
       "      <td>United-States</td>\n",
       "      <td>&lt;=50K</td>\n",
       "    </tr>\n",
       "    <tr>\n",
       "      <th>1</th>\n",
       "      <td>82</td>\n",
       "      <td>Private</td>\n",
       "      <td>HS-grad</td>\n",
       "      <td>Widowed</td>\n",
       "      <td>Exec-managerial</td>\n",
       "      <td>Not-in-family</td>\n",
       "      <td>White</td>\n",
       "      <td>Female</td>\n",
       "      <td>18</td>\n",
       "      <td>United-States</td>\n",
       "      <td>&lt;=50K</td>\n",
       "    </tr>\n",
       "    <tr>\n",
       "      <th>2</th>\n",
       "      <td>66</td>\n",
       "      <td>Private</td>\n",
       "      <td>Some-college</td>\n",
       "      <td>Widowed</td>\n",
       "      <td>Prof-specialty</td>\n",
       "      <td>Unmarried</td>\n",
       "      <td>Black</td>\n",
       "      <td>Female</td>\n",
       "      <td>40</td>\n",
       "      <td>United-States</td>\n",
       "      <td>&lt;=50K</td>\n",
       "    </tr>\n",
       "    <tr>\n",
       "      <th>3</th>\n",
       "      <td>54</td>\n",
       "      <td>Private</td>\n",
       "      <td>7th-8th</td>\n",
       "      <td>Divorced</td>\n",
       "      <td>Machine-op-inspct</td>\n",
       "      <td>Unmarried</td>\n",
       "      <td>White</td>\n",
       "      <td>Female</td>\n",
       "      <td>40</td>\n",
       "      <td>United-States</td>\n",
       "      <td>&lt;=50K</td>\n",
       "    </tr>\n",
       "    <tr>\n",
       "      <th>4</th>\n",
       "      <td>41</td>\n",
       "      <td>Private</td>\n",
       "      <td>Some-college</td>\n",
       "      <td>Separated</td>\n",
       "      <td>Prof-specialty</td>\n",
       "      <td>Own-child</td>\n",
       "      <td>White</td>\n",
       "      <td>Female</td>\n",
       "      <td>40</td>\n",
       "      <td>United-States</td>\n",
       "      <td>&lt;=50K</td>\n",
       "    </tr>\n",
       "    <tr>\n",
       "      <th>...</th>\n",
       "      <td>...</td>\n",
       "      <td>...</td>\n",
       "      <td>...</td>\n",
       "      <td>...</td>\n",
       "      <td>...</td>\n",
       "      <td>...</td>\n",
       "      <td>...</td>\n",
       "      <td>...</td>\n",
       "      <td>...</td>\n",
       "      <td>...</td>\n",
       "      <td>...</td>\n",
       "    </tr>\n",
       "    <tr>\n",
       "      <th>95</th>\n",
       "      <td>46</td>\n",
       "      <td>Private</td>\n",
       "      <td>Bachelors</td>\n",
       "      <td>Married-civ-spouse</td>\n",
       "      <td>Adm-clerical</td>\n",
       "      <td>Husband</td>\n",
       "      <td>Asian-Pac-Islander</td>\n",
       "      <td>Male</td>\n",
       "      <td>35</td>\n",
       "      <td>Philippines</td>\n",
       "      <td>&gt;50K</td>\n",
       "    </tr>\n",
       "    <tr>\n",
       "      <th>96</th>\n",
       "      <td>46</td>\n",
       "      <td>Self-emp-not-inc</td>\n",
       "      <td>Prof-school</td>\n",
       "      <td>Married-civ-spouse</td>\n",
       "      <td>Prof-specialty</td>\n",
       "      <td>Husband</td>\n",
       "      <td>White</td>\n",
       "      <td>Male</td>\n",
       "      <td>80</td>\n",
       "      <td>United-States</td>\n",
       "      <td>&gt;50K</td>\n",
       "    </tr>\n",
       "    <tr>\n",
       "      <th>97</th>\n",
       "      <td>39</td>\n",
       "      <td>Self-emp-inc</td>\n",
       "      <td>Assoc-voc</td>\n",
       "      <td>Married-civ-spouse</td>\n",
       "      <td>Craft-repair</td>\n",
       "      <td>Husband</td>\n",
       "      <td>White</td>\n",
       "      <td>Male</td>\n",
       "      <td>40</td>\n",
       "      <td>United-States</td>\n",
       "      <td>&gt;50K</td>\n",
       "    </tr>\n",
       "    <tr>\n",
       "      <th>98</th>\n",
       "      <td>39</td>\n",
       "      <td>Private</td>\n",
       "      <td>Prof-school</td>\n",
       "      <td>Married-civ-spouse</td>\n",
       "      <td>Sales</td>\n",
       "      <td>Husband</td>\n",
       "      <td>White</td>\n",
       "      <td>Male</td>\n",
       "      <td>99</td>\n",
       "      <td>United-States</td>\n",
       "      <td>&gt;50K</td>\n",
       "    </tr>\n",
       "    <tr>\n",
       "      <th>99</th>\n",
       "      <td>59</td>\n",
       "      <td>Private</td>\n",
       "      <td>Doctorate</td>\n",
       "      <td>Married-civ-spouse</td>\n",
       "      <td>Prof-specialty</td>\n",
       "      <td>Husband</td>\n",
       "      <td>White</td>\n",
       "      <td>Male</td>\n",
       "      <td>45</td>\n",
       "      <td>United-States</td>\n",
       "      <td>&gt;50K</td>\n",
       "    </tr>\n",
       "  </tbody>\n",
       "</table>\n",
       "<p>100 rows × 11 columns</p>\n",
       "</div>"
      ],
      "text/plain": [
       "    age         workclass     education      marital.status  \\\n",
       "0    90           Private       HS-grad             Widowed   \n",
       "1    82           Private       HS-grad             Widowed   \n",
       "2    66           Private  Some-college             Widowed   \n",
       "3    54           Private       7th-8th            Divorced   \n",
       "4    41           Private  Some-college           Separated   \n",
       "..  ...               ...           ...                 ...   \n",
       "95   46           Private     Bachelors  Married-civ-spouse   \n",
       "96   46  Self-emp-not-inc   Prof-school  Married-civ-spouse   \n",
       "97   39      Self-emp-inc     Assoc-voc  Married-civ-spouse   \n",
       "98   39           Private   Prof-school  Married-civ-spouse   \n",
       "99   59           Private     Doctorate  Married-civ-spouse   \n",
       "\n",
       "           occupation   relationship                race     sex  \\\n",
       "0      Prof-specialty  Not-in-family               White  Female   \n",
       "1     Exec-managerial  Not-in-family               White  Female   \n",
       "2      Prof-specialty      Unmarried               Black  Female   \n",
       "3   Machine-op-inspct      Unmarried               White  Female   \n",
       "4      Prof-specialty      Own-child               White  Female   \n",
       "..                ...            ...                 ...     ...   \n",
       "95       Adm-clerical        Husband  Asian-Pac-Islander    Male   \n",
       "96     Prof-specialty        Husband               White    Male   \n",
       "97       Craft-repair        Husband               White    Male   \n",
       "98              Sales        Husband               White    Male   \n",
       "99     Prof-specialty        Husband               White    Male   \n",
       "\n",
       "    hours.per.week native.country income  \n",
       "0               40  United-States  <=50K  \n",
       "1               18  United-States  <=50K  \n",
       "2               40  United-States  <=50K  \n",
       "3               40  United-States  <=50K  \n",
       "4               40  United-States  <=50K  \n",
       "..             ...            ...    ...  \n",
       "95              35    Philippines   >50K  \n",
       "96              80  United-States   >50K  \n",
       "97              40  United-States   >50K  \n",
       "98              99  United-States   >50K  \n",
       "99              45  United-States   >50K  \n",
       "\n",
       "[100 rows x 11 columns]"
      ]
     },
     "execution_count": 24,
     "metadata": {},
     "output_type": "execute_result"
    }
   ],
   "source": [
    "data.head(100)"
   ]
  },
  {
   "cell_type": "code",
   "execution_count": 25,
   "id": "0eb5622e",
   "metadata": {},
   "outputs": [
    {
     "data": {
      "text/plain": [
       "False"
      ]
     },
     "execution_count": 25,
     "metadata": {},
     "output_type": "execute_result"
    }
   ],
   "source": [
    "#checking for null values\n",
    "data.isnull().values.any()"
   ]
  },
  {
   "cell_type": "markdown",
   "id": "360ca281",
   "metadata": {},
   "source": [
    "# Reducing unnecessary values within same domain"
   ]
  },
  {
   "cell_type": "code",
   "execution_count": 26,
   "id": "d9b73e46",
   "metadata": {},
   "outputs": [
    {
     "data": {
      "text/plain": [
       "College      20817\n",
       "Bachelors     5355\n",
       "School        4253\n",
       "Masters       1723\n",
       "Doctorate      413\n",
       "Name: education, dtype: int64"
      ]
     },
     "execution_count": 26,
     "metadata": {},
     "output_type": "execute_result"
    }
   ],
   "source": [
    "data['education'] = data['education'].replace(['Preschool','1st-4th','5th-6th','7th-8th','9th','10th','11th','12th'], 'School')\n",
    "data['education'] = data['education'].replace(['Assoc-voc', 'Assoc-acdm', 'Prof-school', 'Some-college', 'HS-grad'], 'College')\n",
    "data['education'].value_counts()"
   ]
  },
  {
   "cell_type": "code",
   "execution_count": 27,
   "id": "f4082722",
   "metadata": {},
   "outputs": [
    {
     "data": {
      "text/plain": [
       "Other      17562\n",
       "Married    14999\n",
       "Name: marital.status, dtype: int64"
      ]
     },
     "execution_count": 27,
     "metadata": {},
     "output_type": "execute_result"
    }
   ],
   "source": [
    "data['marital.status'] = data['marital.status'].replace(['Married-civ-spouse', 'Married-AF-spouse'], 'Married')\n",
    "data['marital.status'] = data['marital.status'].replace(['Divorced', 'Separated', 'Widowed', 'Never-married', 'Married-spouse-absent'], 'Other')\n",
    "data['marital.status'].value_counts()"
   ]
  },
  {
   "cell_type": "markdown",
   "id": "cf891236",
   "metadata": {},
   "source": [
    "# Changing String Values to Numeric Values\n",
    "\n"
   ]
  },
  {
   "cell_type": "code",
   "execution_count": 28,
   "id": "6501ed75",
   "metadata": {},
   "outputs": [
    {
     "data": {
      "text/html": [
       "<div>\n",
       "<style scoped>\n",
       "    .dataframe tbody tr th:only-of-type {\n",
       "        vertical-align: middle;\n",
       "    }\n",
       "\n",
       "    .dataframe tbody tr th {\n",
       "        vertical-align: top;\n",
       "    }\n",
       "\n",
       "    .dataframe thead th {\n",
       "        text-align: right;\n",
       "    }\n",
       "</style>\n",
       "<table border=\"1\" class=\"dataframe\">\n",
       "  <thead>\n",
       "    <tr style=\"text-align: right;\">\n",
       "      <th></th>\n",
       "      <th>age</th>\n",
       "      <th>workclass</th>\n",
       "      <th>education</th>\n",
       "      <th>marital.status</th>\n",
       "      <th>occupation</th>\n",
       "      <th>relationship</th>\n",
       "      <th>race</th>\n",
       "      <th>sex</th>\n",
       "      <th>hours.per.week</th>\n",
       "      <th>native.country</th>\n",
       "      <th>income</th>\n",
       "    </tr>\n",
       "  </thead>\n",
       "  <tbody>\n",
       "    <tr>\n",
       "      <th>0</th>\n",
       "      <td>72</td>\n",
       "      <td>3</td>\n",
       "      <td>1</td>\n",
       "      <td>1</td>\n",
       "      <td>9</td>\n",
       "      <td>1</td>\n",
       "      <td>4</td>\n",
       "      <td>0</td>\n",
       "      <td>39</td>\n",
       "      <td>39</td>\n",
       "      <td>0</td>\n",
       "    </tr>\n",
       "    <tr>\n",
       "      <th>1</th>\n",
       "      <td>65</td>\n",
       "      <td>3</td>\n",
       "      <td>1</td>\n",
       "      <td>1</td>\n",
       "      <td>3</td>\n",
       "      <td>1</td>\n",
       "      <td>4</td>\n",
       "      <td>0</td>\n",
       "      <td>17</td>\n",
       "      <td>39</td>\n",
       "      <td>0</td>\n",
       "    </tr>\n",
       "    <tr>\n",
       "      <th>2</th>\n",
       "      <td>49</td>\n",
       "      <td>3</td>\n",
       "      <td>1</td>\n",
       "      <td>1</td>\n",
       "      <td>9</td>\n",
       "      <td>4</td>\n",
       "      <td>2</td>\n",
       "      <td>0</td>\n",
       "      <td>39</td>\n",
       "      <td>39</td>\n",
       "      <td>0</td>\n",
       "    </tr>\n",
       "    <tr>\n",
       "      <th>3</th>\n",
       "      <td>37</td>\n",
       "      <td>3</td>\n",
       "      <td>4</td>\n",
       "      <td>1</td>\n",
       "      <td>6</td>\n",
       "      <td>4</td>\n",
       "      <td>4</td>\n",
       "      <td>0</td>\n",
       "      <td>39</td>\n",
       "      <td>39</td>\n",
       "      <td>0</td>\n",
       "    </tr>\n",
       "    <tr>\n",
       "      <th>4</th>\n",
       "      <td>24</td>\n",
       "      <td>3</td>\n",
       "      <td>1</td>\n",
       "      <td>1</td>\n",
       "      <td>9</td>\n",
       "      <td>3</td>\n",
       "      <td>4</td>\n",
       "      <td>0</td>\n",
       "      <td>39</td>\n",
       "      <td>39</td>\n",
       "      <td>0</td>\n",
       "    </tr>\n",
       "    <tr>\n",
       "      <th>5</th>\n",
       "      <td>17</td>\n",
       "      <td>3</td>\n",
       "      <td>1</td>\n",
       "      <td>1</td>\n",
       "      <td>7</td>\n",
       "      <td>4</td>\n",
       "      <td>4</td>\n",
       "      <td>0</td>\n",
       "      <td>44</td>\n",
       "      <td>39</td>\n",
       "      <td>0</td>\n",
       "    </tr>\n",
       "    <tr>\n",
       "      <th>6</th>\n",
       "      <td>21</td>\n",
       "      <td>3</td>\n",
       "      <td>4</td>\n",
       "      <td>1</td>\n",
       "      <td>0</td>\n",
       "      <td>4</td>\n",
       "      <td>4</td>\n",
       "      <td>1</td>\n",
       "      <td>39</td>\n",
       "      <td>39</td>\n",
       "      <td>0</td>\n",
       "    </tr>\n",
       "    <tr>\n",
       "      <th>7</th>\n",
       "      <td>57</td>\n",
       "      <td>6</td>\n",
       "      <td>2</td>\n",
       "      <td>1</td>\n",
       "      <td>9</td>\n",
       "      <td>2</td>\n",
       "      <td>4</td>\n",
       "      <td>0</td>\n",
       "      <td>19</td>\n",
       "      <td>39</td>\n",
       "      <td>1</td>\n",
       "    </tr>\n",
       "    <tr>\n",
       "      <th>8</th>\n",
       "      <td>51</td>\n",
       "      <td>0</td>\n",
       "      <td>1</td>\n",
       "      <td>1</td>\n",
       "      <td>9</td>\n",
       "      <td>1</td>\n",
       "      <td>4</td>\n",
       "      <td>0</td>\n",
       "      <td>39</td>\n",
       "      <td>39</td>\n",
       "      <td>0</td>\n",
       "    </tr>\n",
       "    <tr>\n",
       "      <th>9</th>\n",
       "      <td>24</td>\n",
       "      <td>3</td>\n",
       "      <td>1</td>\n",
       "      <td>1</td>\n",
       "      <td>2</td>\n",
       "      <td>4</td>\n",
       "      <td>4</td>\n",
       "      <td>1</td>\n",
       "      <td>59</td>\n",
       "      <td>38</td>\n",
       "      <td>1</td>\n",
       "    </tr>\n",
       "  </tbody>\n",
       "</table>\n",
       "</div>"
      ],
      "text/plain": [
       "   age  workclass  education  marital.status  occupation  relationship  race  \\\n",
       "0   72          3          1               1           9             1     4   \n",
       "1   65          3          1               1           3             1     4   \n",
       "2   49          3          1               1           9             4     2   \n",
       "3   37          3          4               1           6             4     4   \n",
       "4   24          3          1               1           9             3     4   \n",
       "5   17          3          1               1           7             4     4   \n",
       "6   21          3          4               1           0             4     4   \n",
       "7   57          6          2               1           9             2     4   \n",
       "8   51          0          1               1           9             1     4   \n",
       "9   24          3          1               1           2             4     4   \n",
       "\n",
       "   sex  hours.per.week  native.country  income  \n",
       "0    0              39              39       0  \n",
       "1    0              17              39       0  \n",
       "2    0              39              39       0  \n",
       "3    0              39              39       0  \n",
       "4    0              39              39       0  \n",
       "5    0              44              39       0  \n",
       "6    1              39              39       0  \n",
       "7    0              19              39       1  \n",
       "8    0              39              39       0  \n",
       "9    1              59              38       1  "
      ]
     },
     "execution_count": 28,
     "metadata": {},
     "output_type": "execute_result"
    }
   ],
   "source": [
    "data1 = data.copy()\n",
    "data1 = data1.apply(LabelEncoder().fit_transform)\n",
    "data1.head(10)"
   ]
  },
  {
   "cell_type": "markdown",
   "id": "f5bed161",
   "metadata": {},
   "source": [
    "# Pre Processing data to be applied on any ML algo"
   ]
  },
  {
   "cell_type": "code",
   "execution_count": 29,
   "id": "971db69c",
   "metadata": {},
   "outputs": [],
   "source": [
    "income = data['income']"
   ]
  },
  {
   "cell_type": "code",
   "execution_count": 30,
   "id": "0c069df3",
   "metadata": {},
   "outputs": [],
   "source": [
    "scaler = StandardScaler().fit(data1.drop('income', axis = 1))\n",
    "features = scaler.transform(data1.drop('income', axis = 1))"
   ]
  },
  {
   "cell_type": "code",
   "execution_count": 31,
   "id": "ab867ae8",
   "metadata": {},
   "outputs": [],
   "source": [
    "X_train, X_test, y_train, y_test = train_test_split(features, income, test_size = 0.1)"
   ]
  },
  {
   "cell_type": "markdown",
   "id": "94613df2",
   "metadata": {},
   "source": [
    "#### Data is PROCESSED now and is READY"
   ]
  },
  {
   "cell_type": "markdown",
   "id": "bd6d1710",
   "metadata": {},
   "source": [
    "# Logistic Regression"
   ]
  },
  {
   "cell_type": "code",
   "execution_count": 32,
   "id": "59251fb4",
   "metadata": {},
   "outputs": [
    {
     "name": "stdout",
     "output_type": "stream",
     "text": [
      "Acc on train:  78.9107289107289\n",
      "Acc on test:  78.66134479582438\n",
      "-------------\n",
      "[[2239  248]\n",
      " [ 447  323]]\n"
     ]
    }
   ],
   "source": [
    "lr = LogisticRegression()\n",
    "model = lr.fit(X_train, y_train)\n",
    "prediction_lr = model.predict(X_test)\n",
    "print(\"Acc on train: \", lr.score(X_train, y_train)*100)\n",
    "print(\"Acc on test: \", lr.score(X_test, y_test)*100)\n",
    "print(\"-------------\")\n",
    "print(confusion_matrix(y_test, prediction_lr))\n",
    "b=lr.score(X_test, y_test)*100"
   ]
  },
  {
   "cell_type": "markdown",
   "id": "731e02be",
   "metadata": {},
   "source": [
    "# Random Forest Clasifier"
   ]
  },
  {
   "cell_type": "code",
   "execution_count": 33,
   "id": "eccff517",
   "metadata": {},
   "outputs": [
    {
     "name": "stdout",
     "output_type": "stream",
     "text": [
      "Acc on train:  95.33510783510783\n",
      "Acc on test:  81.05618667485416\n",
      "-------------\n",
      "[[2206  281]\n",
      " [ 336  434]]\n"
     ]
    }
   ],
   "source": [
    "rfc = RandomForestClassifier()\n",
    "model1 = rfc.fit(X_train, y_train)\n",
    "prediction_rfc = model1.predict(X_test)\n",
    "print(\"Acc on train: \", rfc.score(X_train, y_train)*100)\n",
    "print(\"Acc on test: \", rfc.score(X_test, y_test)*100)\n",
    "print(\"-------------\")\n",
    "print(confusion_matrix(y_test, prediction_rfc))\n",
    "x=rfc.score(X_test, y_test)*100"
   ]
  },
  {
   "cell_type": "markdown",
   "id": "33a9775c",
   "metadata": {},
   "source": [
    "# Decision Tree Classifier\n",
    "### Trained on hours per week and Native country"
   ]
  },
  {
   "cell_type": "code",
   "execution_count": 34,
   "id": "d2efc4a4",
   "metadata": {},
   "outputs": [
    {
     "name": "stdout",
     "output_type": "stream",
     "text": [
      "0.756333486872409\n"
     ]
    }
   ],
   "source": [
    "array = data1.values\n",
    "X = array[:,8:10]\n",
    "Y = data1['income']\n",
    "X_train, X_test, Y_train, Y_test = train_test_split(X, Y, test_size = 0.2)\n",
    "dt = DecisionTreeClassifier(criterion='entropy', ccp_alpha = 0.015)\n",
    "dt.fit(X_train, Y_train) # training the model\n",
    "predictions = dt.predict(X_test) \n",
    "print((accuracy_score(Y_test, predictions)))\n",
    "y=accuracy_score(Y_test, predictions)*100"
   ]
  },
  {
   "cell_type": "code",
   "execution_count": 35,
   "id": "923136c7",
   "metadata": {},
   "outputs": [
    {
     "name": "stdout",
     "output_type": "stream",
     "text": [
      "0.756333486872409\n"
     ]
    }
   ],
   "source": [
    "dt = DecisionTreeClassifier(criterion='gini', ccp_alpha = 0.05)\n",
    "dt.fit(X_train, Y_train) # training the model\n",
    "predictions = dt.predict(X_test) \n",
    "print((accuracy_score(Y_test, predictions)))\n",
    "z=accuracy_score(Y_test, predictions)*100"
   ]
  },
  {
   "cell_type": "markdown",
   "id": "7319b684",
   "metadata": {},
   "source": [
    "# Naive Bayes Algorithm\n",
    "### Trained on Age and Workclass"
   ]
  },
  {
   "cell_type": "code",
   "execution_count": 36,
   "id": "2dd0631d",
   "metadata": {},
   "outputs": [
    {
     "name": "stdout",
     "output_type": "stream",
     "text": [
      "0.7528020881314295\n"
     ]
    }
   ],
   "source": [
    "array = data1.values\n",
    "X = array[:,:2]\n",
    "Y = data1['income']\n",
    "X_train, X_test, Y_train, Y_test = train_test_split(X, Y, test_size = 0.2)\n",
    "from sklearn.naive_bayes import GaussianNB\n",
    "nb = GaussianNB()\n",
    "nb.fit(X_train, Y_train)\n",
    "prediction = nb.predict(X_test)\n",
    "print((accuracy_score(Y_test, prediction)))\n",
    "a=accuracy_score(Y_test, prediction)*100"
   ]
  },
  {
   "cell_type": "code",
   "execution_count": 37,
   "id": "1e66be1e",
   "metadata": {},
   "outputs": [
    {
     "data": {
      "image/png": "[encoded data removed]",
      "text/plain": [
       "<Figure size 432x288 with 1 Axes>"
      ]
     },
     "metadata": {
      "needs_background": "light"
     },
     "output_type": "display_data"
    },
    {
     "data": {
      "image/png": "[encoded data removed]",
      "text/plain": [
       "<Figure size 432x288 with 1 Axes>"
      ]
     },
     "metadata": {
      "needs_background": "light"
     },
     "output_type": "display_data"
    }
   ],
   "source": [
    "list=['LR','RFC','Ent','Gini','NBA']\n",
    "l=[b,x,y,z,a]\n",
    "#print(l)\n",
    "plt.bar(list,l,color=['red','green','blue','yellow','orange'])\n",
    "plt.show()\n",
    "plt.plot(list,l,marker='o',markersize=12)\n",
    "plt.show()"
   ]
  },
  {
   "cell_type": "markdown",
   "id": "ead95d4b",
   "metadata": {},
   "source": [
    "# Linear Regression\n",
    "### Trained on Age, Education and Race\n"
   ]
  },
  {
   "cell_type": "code",
   "execution_count": 38,
   "id": "7573be2f",
   "metadata": {},
   "outputs": [
    {
     "name": "stdout",
     "output_type": "stream",
     "text": [
      "Predicted Hours Of Work per week:  [40.73384055]\n"
     ]
    }
   ],
   "source": [
    "X = data1[['age','education','race']]\n",
    "Y = data1['hours.per.week']\n",
    "X_train, X_test, Y_train, Y_test = train_test_split(X, Y, test_size = 0.2)\n",
    "regr = LinearRegression()\n",
    "regr.fit(X, Y)\n",
    "prediction = regr.predict([[50, 2, 4]])\n",
    "print(\"Predicted Hours Of Work per week: \",prediction)"
   ]
  },
  {
   "cell_type": "markdown",
   "id": "8876195d",
   "metadata": {},
   "source": [
    "# K- Means"
   ]
  },
  {
   "cell_type": "code",
   "execution_count": 39,
   "id": "eda2d068",
   "metadata": {},
   "outputs": [
    {
     "data": {
      "text/plain": [
       "Text(0, 0.5, 'Inertia')"
      ]
     },
     "execution_count": 39,
     "metadata": {},
     "output_type": "execute_result"
    },
    {
     "data": {
      "image/png": "[encoded data removed]",
      "text/plain": [
       "<Figure size 864x432 with 1 Axes>"
      ]
     },
     "metadata": {
      "needs_background": "light"
     },
     "output_type": "display_data"
    }
   ],
   "source": [
    "scaler = StandardScaler()\n",
    "data_scaled = scaler.fit_transform(data1)\n",
    "pd.DataFrame(data_scaled)\n",
    "kmeans = KMeans(n_clusters=2, init='k-means++')\n",
    "kmeans.fit(data_scaled)\n",
    "SSE = []\n",
    "for cluster in range(1,20):\n",
    "    kmeans = KMeans(n_clusters = cluster, init='k-means++')\n",
    "    kmeans.fit(data_scaled)\n",
    "    SSE.append(kmeans.inertia_)\n",
    "frame = pd.DataFrame({'Cluster':range(1,20), 'SSE':SSE})\n",
    "plt.figure(figsize=(12,6))\n",
    "plt.plot(frame['Cluster'], frame['SSE'], marker='o')\n",
    "plt.xlabel('Number of clusters')\n",
    "plt.ylabel('Inertia')"
   ]
  },
  {
   "cell_type": "markdown",
   "id": "baf291af",
   "metadata": {},
   "source": [
    "### After Selecting 6 Clusters"
   ]
  },
  {
   "cell_type": "code",
   "execution_count": 40,
   "id": "4d1d1b61",
   "metadata": {},
   "outputs": [
    {
     "data": {
      "text/plain": [
       "5    8369\n",
       "1    6888\n",
       "2    6381\n",
       "4    6267\n",
       "0    3436\n",
       "3    1220\n",
       "Name: cluster, dtype: int64"
      ]
     },
     "execution_count": 40,
     "metadata": {},
     "output_type": "execute_result"
    }
   ],
   "source": [
    "kmeans = KMeans(n_clusters = 6, init='k-means++')\n",
    "kmeans.fit(data_scaled)\n",
    "pred = kmeans.predict(data_scaled)\n",
    "frame = pd.DataFrame(data_scaled)\n",
    "frame['cluster'] = pred\n",
    "frame['cluster'].value_counts()"
   ]
  },
  {
   "cell_type": "markdown",
   "id": "496773e6",
   "metadata": {},
   "source": [
    "# Statistical Analysis"
   ]
  },
  {
   "cell_type": "code",
   "execution_count": 41,
   "id": "6596c502",
   "metadata": {},
   "outputs": [
    {
     "data": {
      "text/html": [
       "<div>\n",
       "<style scoped>\n",
       "    .dataframe tbody tr th:only-of-type {\n",
       "        vertical-align: middle;\n",
       "    }\n",
       "\n",
       "    .dataframe tbody tr th {\n",
       "        vertical-align: top;\n",
       "    }\n",
       "\n",
       "    .dataframe thead th {\n",
       "        text-align: right;\n",
       "    }\n",
       "</style>\n",
       "<table border=\"1\" class=\"dataframe\">\n",
       "  <thead>\n",
       "    <tr style=\"text-align: right;\">\n",
       "      <th></th>\n",
       "      <th>age</th>\n",
       "      <th>hours.per.week</th>\n",
       "    </tr>\n",
       "  </thead>\n",
       "  <tbody>\n",
       "    <tr>\n",
       "      <th>count</th>\n",
       "      <td>32561.000000</td>\n",
       "      <td>32561.000000</td>\n",
       "    </tr>\n",
       "    <tr>\n",
       "      <th>mean</th>\n",
       "      <td>38.581647</td>\n",
       "      <td>40.437456</td>\n",
       "    </tr>\n",
       "    <tr>\n",
       "      <th>std</th>\n",
       "      <td>13.640433</td>\n",
       "      <td>12.347429</td>\n",
       "    </tr>\n",
       "    <tr>\n",
       "      <th>min</th>\n",
       "      <td>17.000000</td>\n",
       "      <td>1.000000</td>\n",
       "    </tr>\n",
       "    <tr>\n",
       "      <th>25%</th>\n",
       "      <td>28.000000</td>\n",
       "      <td>40.000000</td>\n",
       "    </tr>\n",
       "    <tr>\n",
       "      <th>50%</th>\n",
       "      <td>37.000000</td>\n",
       "      <td>40.000000</td>\n",
       "    </tr>\n",
       "    <tr>\n",
       "      <th>75%</th>\n",
       "      <td>48.000000</td>\n",
       "      <td>45.000000</td>\n",
       "    </tr>\n",
       "    <tr>\n",
       "      <th>max</th>\n",
       "      <td>90.000000</td>\n",
       "      <td>99.000000</td>\n",
       "    </tr>\n",
       "  </tbody>\n",
       "</table>\n",
       "</div>"
      ],
      "text/plain": [
       "                age  hours.per.week\n",
       "count  32561.000000    32561.000000\n",
       "mean      38.581647       40.437456\n",
       "std       13.640433       12.347429\n",
       "min       17.000000        1.000000\n",
       "25%       28.000000       40.000000\n",
       "50%       37.000000       40.000000\n",
       "75%       48.000000       45.000000\n",
       "max       90.000000       99.000000"
      ]
     },
     "execution_count": 41,
     "metadata": {},
     "output_type": "execute_result"
    }
   ],
   "source": [
    "data.describe()"
   ]
  },
  {
   "cell_type": "markdown",
   "id": "65260566",
   "metadata": {},
   "source": [
    "## Importance of Features"
   ]
  },
  {
   "cell_type": "code",
   "execution_count": 42,
   "id": "23dd2355",
   "metadata": {},
   "outputs": [],
   "source": [
    "df=data.copy()\n",
    "for col in df.columns:\n",
    "    if df[col].dtypes == 'object':\n",
    "        encoder = LabelEncoder()\n",
    "        df[col] = encoder.fit_transform(df[col])\n"
   ]
  },
  {
   "cell_type": "code",
   "execution_count": 43,
   "id": "a4d66f19",
   "metadata": {},
   "outputs": [],
   "source": [
    "X = data1.drop('income', axis=1)\n",
    "y = data1['income']\n",
    "X_train, X_test, y_train, y_test = train_test_split(X, y, test_size=0.1)"
   ]
  },
  {
   "cell_type": "code",
   "execution_count": 44,
   "id": "b14b3b6f",
   "metadata": {},
   "outputs": [
    {
     "data": {
      "text/html": [
       "<div>\n",
       "<style scoped>\n",
       "    .dataframe tbody tr th:only-of-type {\n",
       "        vertical-align: middle;\n",
       "    }\n",
       "\n",
       "    .dataframe tbody tr th {\n",
       "        vertical-align: top;\n",
       "    }\n",
       "\n",
       "    .dataframe thead th {\n",
       "        text-align: right;\n",
       "    }\n",
       "</style>\n",
       "<table border=\"1\" class=\"dataframe\">\n",
       "  <thead>\n",
       "    <tr style=\"text-align: right;\">\n",
       "      <th></th>\n",
       "      <th>Features</th>\n",
       "      <th>Importance(%)</th>\n",
       "    </tr>\n",
       "  </thead>\n",
       "  <tbody>\n",
       "    <tr>\n",
       "      <th>0</th>\n",
       "      <td>age</td>\n",
       "      <td>29.078328</td>\n",
       "    </tr>\n",
       "    <tr>\n",
       "      <th>8</th>\n",
       "      <td>hours.per.week</td>\n",
       "      <td>14.882051</td>\n",
       "    </tr>\n",
       "    <tr>\n",
       "      <th>3</th>\n",
       "      <td>marital.status</td>\n",
       "      <td>12.532059</td>\n",
       "    </tr>\n",
       "    <tr>\n",
       "      <th>4</th>\n",
       "      <td>occupation</td>\n",
       "      <td>11.898038</td>\n",
       "    </tr>\n",
       "    <tr>\n",
       "      <th>2</th>\n",
       "      <td>education</td>\n",
       "      <td>9.640036</td>\n",
       "    </tr>\n",
       "    <tr>\n",
       "      <th>5</th>\n",
       "      <td>relationship</td>\n",
       "      <td>8.840291</td>\n",
       "    </tr>\n",
       "    <tr>\n",
       "      <th>1</th>\n",
       "      <td>workclass</td>\n",
       "      <td>6.100746</td>\n",
       "    </tr>\n",
       "    <tr>\n",
       "      <th>9</th>\n",
       "      <td>native.country</td>\n",
       "      <td>3.142235</td>\n",
       "    </tr>\n",
       "    <tr>\n",
       "      <th>6</th>\n",
       "      <td>race</td>\n",
       "      <td>2.495456</td>\n",
       "    </tr>\n",
       "    <tr>\n",
       "      <th>7</th>\n",
       "      <td>sex</td>\n",
       "      <td>1.390762</td>\n",
       "    </tr>\n",
       "  </tbody>\n",
       "</table>\n",
       "</div>"
      ],
      "text/plain": [
       "         Features  Importance(%)\n",
       "0             age      29.078328\n",
       "8  hours.per.week      14.882051\n",
       "3  marital.status      12.532059\n",
       "4      occupation      11.898038\n",
       "2       education       9.640036\n",
       "5    relationship       8.840291\n",
       "1       workclass       6.100746\n",
       "9  native.country       3.142235\n",
       "6            race       2.495456\n",
       "7             sex       1.390762"
      ]
     },
     "execution_count": 44,
     "metadata": {},
     "output_type": "execute_result"
    }
   ],
   "source": [
    "rfc = RandomForestClassifier()\n",
    "rfc.fit(X_train, y_train)\n",
    "x=zip(X.columns.tolist(), rfc.feature_importances_ * 100)\n",
    "features = pd.DataFrame(x, columns=['Features', 'Importance(%)'])\n",
    "features.sort_values('Importance(%)',inplace=True,ascending=False)\n",
    "features"
   ]
  },
  {
   "cell_type": "code",
   "execution_count": 45,
   "id": "62bbcae0",
   "metadata": {},
   "outputs": [
    {
     "data": {
      "image/png": "[encoded data removed]",
      "text/plain": [
       "<Figure size 1440x504 with 1 Axes>"
      ]
     },
     "metadata": {
      "needs_background": "light"
     },
     "output_type": "display_data"
    }
   ],
   "source": [
    "plt.figure(figsize=[20,7])\n",
    "sb.barplot(data=features, x='Features', y='Importance(%)')\n",
    "plt.title('Features Importance', fontdict={'fontname':'Monospace', 'fontsize': 20, 'fontweight': 'bold'})\n",
    "plt.xlabel('Feature', fontdict={'fontname':'Monospace', 'fontsize': 20, 'fontweight': 'bold'})\n",
    "plt.ylabel('Importance (%)', fontdict={'fontname':'Monospace', 'fontsize': 20, 'fontweight': 'bold'})\n",
    "\n",
    "plt.show()"
   ]
  },
  {
   "cell_type": "code",
   "execution_count": null,
   "id": "0c559169",
   "metadata": {},
   "outputs": [],
   "source": []
  }
 ],
 "metadata": {
  "kernelspec": {
   "display_name": "Python 3 (ipykernel)",
   "language": "python",
   "name": "python3"
  },
  "language_info": {
   "codemirror_mode": {
    "name": "ipython",
    "version": 3
   },
   "file_extension": ".py",
   "mimetype": "text/x-python",
   "name": "python",
   "nbconvert_exporter": "python",
   "pygments_lexer": "ipython3",
   "version": "3.9.7"
  }
 },
 "nbformat": 4,
 "nbformat_minor": 5
}
